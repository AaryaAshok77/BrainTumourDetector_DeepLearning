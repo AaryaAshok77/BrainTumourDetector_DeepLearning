{
  "nbformat": 4,
  "nbformat_minor": 0,
  "metadata": {
    "colab": {
      "provenance": [],
      "authorship_tag": "ABX9TyM4o9AYTVHB8Wrrq2DgdVZO",
      "include_colab_link": true
    },
    "kernelspec": {
      "name": "python3",
      "display_name": "Python 3"
    },
    "language_info": {
      "name": "python"
    }
  },
  "cells": [
    {
      "cell_type": "markdown",
      "metadata": {
        "id": "view-in-github",
        "colab_type": "text"
      },
      "source": [
        "<a href=\"https://colab.research.google.com/github/AaryaAshok77/BrainTumourDetector_DeepLearning/blob/main/Brain_Tumour_Detector_Deep_Learning.ipynb\" target=\"_parent\"><img src=\"https://colab.research.google.com/assets/colab-badge.svg\" alt=\"Open In Colab\"/></a>"
      ]
    },
    {
      "cell_type": "code",
      "execution_count": 1,
      "metadata": {
        "colab": {
          "base_uri": "https://localhost:8080/"
        },
        "id": "qF7Rnx1dLwsP",
        "outputId": "1d91888b-86e7-49e1-9a28-94c99d865b03"
      },
      "outputs": [
        {
          "output_type": "stream",
          "name": "stdout",
          "text": [
            "[198.36539227]\n"
          ]
        }
      ],
      "source": [
        "import seaborn as sns\n",
        "import pandas as pd\n",
        "import numpy as np\n",
        "import matplotlib.pyplot as plt\n",
        "from sklearn import linear_model\n",
        "\n",
        "x = np.array([2.0, 2.4, 1.5, 3.5, 3.5, 3.5, 3.5, 3.7, 3.7])\n",
        "y = np.array([196, 221, 136, 255, 244, 230, 232, 255, 267])\n",
        "reg = linear_model.LinearRegression()\n",
        "reg.fit(x.reshape(-1, 1), y)\n",
        "print(reg.predict([[2.4]]))"
      ]
    }
  ]
}
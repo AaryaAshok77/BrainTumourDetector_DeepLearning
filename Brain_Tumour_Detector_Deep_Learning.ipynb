{
  "cells": [
    {
      "cell_type": "markdown",
      "metadata": {
        "colab_type": "text",
        "id": "view-in-github"
      },
      "source": [
        "<a href=\"https://colab.research.google.com/github/AaryaAshok77/BrainTumourDetector_DeepLearning/blob/main/Brain_Tumour_Detector_Deep_Learning.ipynb\" target=\"_parent\"><img src=\"https://colab.research.google.com/assets/colab-badge.svg\" alt=\"Open In Colab\"/></a>"
      ]
    },
    {
      "cell_type": "markdown",
      "metadata": {
        "id": "PoN-4dVMTpZA"
      },
      "source": [
        "# Basic Setup"
      ]
    },
    {
      "cell_type": "markdown",
      "metadata": {
        "id": "KAcORXkRl-D_"
      },
      "source": [
        "## Importing Packages"
      ]
    },
    {
      "cell_type": "code",
      "execution_count": 2,
      "metadata": {
        "id": "DwaMh14WT3FW"
      },
      "outputs": [],
      "source": [
        "\n",
        "import numpy as np\n",
        "import torch\n",
        "from torch.utils.data import Dataset, DataLoader\n",
        "import glob\n",
        "import matplotlib.pyplot as plt\n",
        "from sklearn.metrics import confusion_matrix, accuracy_score #? Helps form a yes no matrix for learning, check accuracy of our model\n",
        "import cv2 #? Helps read image data -> Computer Vision"
      ]
    },
    {
      "cell_type": "markdown",
      "metadata": {
        "id": "Qu-qGUTol2Y2"
      },
      "source": [
        "## Reading the images"
      ]
    },
    {
      "cell_type": "code",
      "execution_count": 11,
      "metadata": {
        "colab": {
          "base_uri": "https://localhost:8080/"
        },
        "id": "YG5uYxMmlrv4",
        "outputId": "168a157a-4da5-4676-e4bd-4db109a95a03"
      },
      "outputs": [
        {
          "name": "stdout",
          "output_type": "stream",
          "text": [
            "154\n",
            "97\n"
          ]
        }
      ],
      "source": [
        "# from google.colab import drive\n",
        "# drive.mount ('/content/drive', force_remount=True)\n",
        "# tumour = []\n",
        "# path_tumour = \"/content/drive/MyDrive/DataSets/brain_tumor_dataset/yes/*.jpg\"\n",
        "\n",
        "#* Reading the tumorous images from the dataset\n",
        "tumour = []\n",
        "path_tumour = \"brain_tumor_dataset/yes/*.jpg\"\n",
        "\n",
        "for f in glob.iglob(path_tumour):\n",
        "    img = cv2.imread(f)\n",
        "    img = cv2.resize(img, (128, 128)) #? Resizing the image to 128x128\n",
        "    b, g, r = cv2.split(img) #?S plitting the image into its RGB components\n",
        "    img = cv2.merge([r, g, b], img) #? Merging the RGB components to form the image\n",
        "    tumour.append(img)\n",
        "print(f\"Tumorous: {len(tumour)}\")\n",
        "\n",
        "#* Reading the healthy images from the dataset\n",
        "healthy = []\n",
        "path__healthy = \"brain_tumor_dataset/no/*.jpg\"\n",
        "\n",
        "for f in glob.iglob(path__healthy):\n",
        "    img = cv2.imread(f)\n",
        "    img = cv2.resize(img, (128, 128))\n",
        "    b, g, r = cv2.split(img)\n",
        "    img = cv2.merge([r, g, b], img)\n",
        "    healthy.append(img)\n",
        "print(f\"Healthy: {len(healthy)}\")"
      ]
    },
    {
      "cell_type": "code",
      "execution_count": 12,
      "metadata": {},
      "outputs": [],
      "source": [
        "tumour = np.array(tumour)\n",
        "healthy = np.array(healthy)\n",
        "print(f\"Tumorous: {tumour.shape}\") #? 155 images of 128x128 pixels with 3 channels (RGB)\n",
        "print(f\"Healthy: {healthy.shape}\") #? 98 images of 128x128 pixels with 3 channels (RGB)"
      ]
    },
    {
      "cell_type": "code",
      "execution_count": 15,
      "metadata": {},
      "outputs": [
        {
          "name": "stdout",
          "output_type": "stream",
          "text": [
            "All: (251, 128, 128, 3)\n"
          ]
        }
      ],
      "source": [
        "all = np.concatenate((tumour, healthy)) #? Concatenating the tumorous and healthy images to form a single dataset\n",
        "print(f\"All: {all.shape}\") #? 253 images of 128x128 pixels with 3 channels (RGB)"
      ]
    }
  ],
  "metadata": {
    "colab": {
      "authorship_tag": "ABX9TyPMJwaGIitXk31feTA6+j6p",
      "include_colab_link": true,
      "mount_file_id": "1avl0LBrKejV8awaxmvB0Ar-uXL_ANmd2",
      "provenance": []
    },
    "kernelspec": {
      "display_name": "Python 3",
      "name": "python3"
    },
    "language_info": {
      "codemirror_mode": {
        "name": "ipython",
        "version": 3
      },
      "file_extension": ".py",
      "mimetype": "text/x-python",
      "name": "python",
      "nbconvert_exporter": "python",
      "pygments_lexer": "ipython3",
      "version": "3.11.7"
    }
  },
  "nbformat": 4,
  "nbformat_minor": 0
}

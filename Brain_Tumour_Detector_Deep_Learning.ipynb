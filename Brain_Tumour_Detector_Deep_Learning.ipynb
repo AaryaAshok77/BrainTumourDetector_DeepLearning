{
  "cells": [
    {
      "cell_type": "markdown",
      "metadata": {
        "colab_type": "text",
        "id": "view-in-github"
      },
      "source": [
        "<a href=\"https://colab.research.google.com/github/AaryaAshok77/BrainTumourDetector_DeepLearning/blob/main/Brain_Tumour_Detector_Deep_Learning.ipynb\" target=\"_parent\"><img src=\"https://colab.research.google.com/assets/colab-badge.svg\" alt=\"Open In Colab\"/></a>"
      ]
    },
    {
      "cell_type": "markdown",
      "metadata": {
        "id": "PoN-4dVMTpZA"
      },
      "source": [
        "# Basic Setup"
      ]
    },
    {
      "cell_type": "markdown",
      "metadata": {
        "id": "KAcORXkRl-D_"
      },
      "source": [
        "## Importing Packages"
      ]
    },
    {
      "cell_type": "code",
      "execution_count": null,
      "metadata": {
        "id": "DwaMh14WT3FW"
      },
      "outputs": [],
      "source": [
        "\n",
        "import numpy as np\n",
        "import torch\n",
        "from torch.utils.data import Dataset, DataLoader\n",
        "import glob\n",
        "import matplotlib.pyplot as plt\n",
        "from sklearn.metrics import confusion_matrix, accuracy_score #? Helps form a yes no matrix for learning, check accuracy of our model\n",
        "import cv2 #? Helps read image data -> Computer Vision"
      ]
    },
    {
      "cell_type": "markdown",
      "metadata": {
        "id": "Qu-qGUTol2Y2"
      },
      "source": [
        "## Reading the images"
      ]
    },
    {
      "cell_type": "code",
      "execution_count": null,
      "metadata": {
        "colab": {
          "base_uri": "https://localhost:8080/"
        },
        "id": "YG5uYxMmlrv4",
        "outputId": "168a157a-4da5-4676-e4bd-4db109a95a03"
      },
      "outputs": [],
      "source": [
        "# from google.colab import drive\n",
        "# drive.mount ('/content/drive', force_remount=True)\n",
        "# tumour = []\n",
        "# path_tumour = \"/content/drive/MyDrive/DataSets/brain_tumor_dataset/yes/*.jpg\"\n",
        "# path_healthy = \"/content/drive/MyDrive/DataSets/brain_tumor_dataset/no/*.jpg\"\n",
        "\n",
        "\n",
        "#* Reading the tumorous images from the dataset\n",
        "tumour = []\n",
        "path_tumour = \"brain_tumor_dataset/yes/*.jpg\"\n",
        "\n",
        "for f in glob.iglob(path_tumour):\n",
        "    img = cv2.imread(f)\n",
        "    img = cv2.resize(img, (128, 128)) #? Resizing the image to 128x128\n",
        "    b, g, r = cv2.split(img) #?S plitting the image into its RGB components\n",
        "    img = cv2.merge([r, g, b], img) #? Merging the RGB components to form the image\n",
        "    tumour.append(img)\n",
        "print(f\"Tumorous: {len(tumour)}\")\n",
        "\n",
        "#* Reading the healthy images from the dataset\n",
        "healthy = []\n",
        "path_healthy = \"brain_tumor_dataset/no/*.jpg\"\n",
        "\n",
        "for f in glob.iglob(path_healthy):\n",
        "    img = cv2.imread(f)\n",
        "    img = cv2.resize(img, (128, 128))\n",
        "    b, g, r = cv2.split(img)\n",
        "    img = cv2.merge([r, g, b], img)\n",
        "    healthy.append(img)\n",
        "print(f\"Healthy: {len(healthy)}\")"
      ]
    },
    {
      "cell_type": "code",
      "execution_count": null,
      "metadata": {},
      "outputs": [],
      "source": [
        "tumour = np.array(tumour)\n",
        "healthy = np.array(healthy)\n",
        "print(f\"Tumorous: {tumour.shape}\") #? 155 images of 128x128 pixels with 3 channels (RGB)\n",
        "print(f\"Healthy: {healthy.shape}\") #? 98 images of 128x128 pixels with 3 channels (RGB)"
      ]
    },
    {
      "cell_type": "code",
      "execution_count": null,
      "metadata": {},
      "outputs": [],
      "source": [
        "all = np.concatenate((tumour, healthy)) #? Concatenating the tumorous and healthy images to form a single dataset\n",
        "print(f\"All: {all.shape}\") #? 253 images of 128x128 pixels with 3 channels (RGB)"
      ]
    },
    {
      "cell_type": "markdown",
      "metadata": {},
      "source": [
        "# Visualizing the MRI image"
      ]
    },
    {
      "cell_type": "code",
      "execution_count": null,
      "metadata": {},
      "outputs": [],
      "source": [
        "def plot_random_img(healthy, tumour, n):\n",
        "    healthy_imgs =  healthy[np.random.choice(healthy.shape[0], n, replace=False)] #? Randomly selecting 5 healthy images\n",
        "    tumour_imgs =  tumour[np.random.choice(tumour.shape[0], n, replace=False)] #? Randomly selecting 5 tumorous images\n",
        "\n",
        "    plt.figure(figsize=(16, 9)) #? Setting the size of the plot\n",
        "    for img in range(n):\n",
        "        plt.subplot(1, n, img+1) #? 1-> Row, num-> Column, img+1-> Index\n",
        "        plt.title('Healthy')\n",
        "        plt.imshow(healthy_imgs[img])\n",
        "\n",
        "    plt.figure(figsize=(16, 9))\n",
        "    for img in range(n):\n",
        "        plt.subplot(2, n, img+1+n) #? 2-> Row, num-> Column, img+1+n-> Index\n",
        "        plt.title('Tumorous')\n",
        "        plt.imshow(tumour_imgs[img])"
      ]
    },
    {
      "cell_type": "code",
      "execution_count": null,
      "metadata": {},
      "outputs": [],
      "source": [
        "plot_random_img(healthy, tumour, 5)"
      ]
    },
    {
      "cell_type": "markdown",
      "metadata": {},
      "source": [
        "# Creating MRI Dataset Class"
      ]
    },
    {
      "cell_type": "code",
      "execution_count": null,
      "metadata": {},
      "outputs": [],
      "source": [
        "class MRI(Dataset):\n",
        "    def __init__(self):\n",
        "        tumour = []\n",
        "        for f in glob.iglob(\"./brain_tumor_dataset/yes/*.jpg\"):\n",
        "            img = cv2.imread(f)\n",
        "            img = cv2.resize(img, (128, 128))\n",
        "            b, g, r = cv2.split(img)\n",
        "            img = cv2.merge([r, g, b], img)\n",
        "            tumour.append(img)\n",
        "\n",
        "        healthy = []\n",
        "        for f in glob.iglob(\"./brain_tumor_dataset/no/*.jpg\"):\n",
        "            img = cv2.imread(f)\n",
        "            img = cv2.resize(img, (128, 128))\n",
        "            b, g, r = cv2.split(img)\n",
        "            img = cv2.merge([r, g, b], img)\n",
        "            healthy.append(img)\n",
        "\n",
        "        #* Images\n",
        "        tumour = np.array(tumour, dtype=np.float32)\n",
        "        healthy = np.array(healthy, dtype=np.float32)\n",
        "\n",
        "        #* Labels\n",
        "        tumour_label = np.ones(tumour.shape[0], dtype=np.float32) #? 1-> Tumorous\n",
        "        healthy_label = np.zeros(healthy.shape[0], dtype=np.float32) #? 0-> Healthy\n",
        "\n",
        "        #* Concatenating the images and labels\n",
        "        self.images = np.concatenate((tumour, healthy), axis=0) #? axis=0-> Concatenating along the rows ((154, 128, 128, 3)+(97, 128, 128, 3)=(251, 128, 128, 3))\n",
        "        self.labels = np.concatenate((tumour_label, healthy_label), axis=0)\n",
        "\n",
        "    def __len__(self): #? Returns the length of the dataset\n",
        "        return self.images.shape[0]\n",
        "\n",
        "    def __getitem__(self, idx): #? Returns the image and its label\n",
        "        sample = {'image': self.images[idx], 'label': self.labels[idx]}\n",
        "        return sample\n",
        "    \n",
        "    def normalise(self):\n",
        "        self.images /= 255.0 #? Normalising the images to the range [0, 1]"
      ]
    }
  ],
  "metadata": {
    "colab": {
      "authorship_tag": "ABX9TyPMJwaGIitXk31feTA6+j6p",
      "include_colab_link": true,
      "mount_file_id": "1avl0LBrKejV8awaxmvB0Ar-uXL_ANmd2",
      "provenance": []
    },
    "kernelspec": {
      "display_name": "Python 3",
      "name": "python3"
    },
    "language_info": {
      "codemirror_mode": {
        "name": "ipython",
        "version": 3
      },
      "file_extension": ".py",
      "mimetype": "text/x-python",
      "name": "python",
      "nbconvert_exporter": "python",
      "pygments_lexer": "ipython3",
      "version": "3.11.7"
    }
  },
  "nbformat": 4,
  "nbformat_minor": 0
}

{
  "nbformat": 4,
  "nbformat_minor": 0,
  "metadata": {
    "colab": {
      "provenance": [],
      "mount_file_id": "1avl0LBrKejV8awaxmvB0Ar-uXL_ANmd2",
      "authorship_tag": "ABX9TyPMJwaGIitXk31feTA6+j6p",
      "include_colab_link": true
    },
    "kernelspec": {
      "name": "python3",
      "display_name": "Python 3"
    },
    "language_info": {
      "name": "python"
    }
  },
  "cells": [
    {
      "cell_type": "markdown",
      "metadata": {
        "id": "view-in-github",
        "colab_type": "text"
      },
      "source": [
        "<a href=\"https://colab.research.google.com/github/AaryaAshok77/BrainTumourDetector_DeepLearning/blob/main/Brain_Tumour_Detector_Deep_Learning.ipynb\" target=\"_parent\"><img src=\"https://colab.research.google.com/assets/colab-badge.svg\" alt=\"Open In Colab\"/></a>"
      ]
    },
    {
      "cell_type": "markdown",
      "source": [
        "# Basic Setup"
      ],
      "metadata": {
        "id": "PoN-4dVMTpZA"
      }
    },
    {
      "cell_type": "markdown",
      "source": [
        "## Importing Packages"
      ],
      "metadata": {
        "id": "KAcORXkRl-D_"
      }
    },
    {
      "cell_type": "code",
      "source": [
        "import numpy as np\n",
        "import torch\n",
        "from torch.utils.data import Dataset, DataLoader\n",
        "import glob\n",
        "import matplotlib.pyplot as plt\n",
        "from sklearn.metrics import confusion_matrix, accuracy_score # Helps form a yes no matric for learning, check accuracy of our model\n",
        "import cv2 # Helps read image data -> Computer Vision"
      ],
      "metadata": {
        "id": "DwaMh14WT3FW"
      },
      "execution_count": 3,
      "outputs": []
    },
    {
      "cell_type": "markdown",
      "source": [
        "## Reading the images"
      ],
      "metadata": {
        "id": "Qu-qGUTol2Y2"
      }
    },
    {
      "cell_type": "code",
      "source": [
        "from google.colab import drive\n",
        "drive.mount ('/content/drive', force_remount=True)\n",
        "\n",
        "tumour = []\n",
        "\n",
        "path_tumour = \"/content/drive/MyDrive/DataSets/brain_tumor_dataset/yes/*.jpg\"\n",
        "\n",
        "for f in glob.iglob(path_tumour):\n",
        "    img = cv2.imread(f)\n",
        "    tumour.append(img)\n",
        "\n",
        "len(tumour)"
      ],
      "metadata": {
        "colab": {
          "base_uri": "https://localhost:8080/"
        },
        "id": "YG5uYxMmlrv4",
        "outputId": "168a157a-4da5-4676-e4bd-4db109a95a03"
      },
      "execution_count": 14,
      "outputs": [
        {
          "output_type": "stream",
          "name": "stdout",
          "text": [
            "Mounted at /content/drive\n"
          ]
        },
        {
          "output_type": "execute_result",
          "data": {
            "text/plain": [
              "86"
            ]
          },
          "metadata": {},
          "execution_count": 14
        }
      ]
    },
    {
      "cell_type": "code",
      "source": [
        "for img in tumour:\n",
        "    print(img.shape)"
      ],
      "metadata": {
        "colab": {
          "base_uri": "https://localhost:8080/"
        },
        "id": "YgDefUZsq5pM",
        "outputId": "2144ea8b-921f-4b75-a829-0511946eab8c"
      },
      "execution_count": 11,
      "outputs": [
        {
          "output_type": "stream",
          "name": "stdout",
          "text": [
            "(446, 450, 3)\n",
            "(256, 197, 3)\n",
            "(630, 630, 3)\n",
            "(336, 300, 3)\n",
            "(360, 319, 3)\n",
            "(519, 456, 3)\n",
            "(212, 209, 3)\n",
            "(325, 300, 3)\n",
            "(236, 213, 3)\n",
            "(938, 911, 3)\n",
            "(260, 194, 3)\n",
            "(251, 201, 3)\n",
            "(290, 250, 3)\n",
            "(586, 467, 3)\n",
            "(380, 294, 3)\n",
            "(300, 240, 3)\n",
            "(253, 200, 3)\n",
            "(218, 180, 3)\n",
            "(219, 230, 3)\n",
            "(520, 433, 3)\n",
            "(630, 504, 3)\n",
            "(225, 225, 3)\n",
            "(294, 250, 3)\n",
            "(325, 300, 3)\n",
            "(620, 620, 3)\n",
            "(244, 206, 3)\n",
            "(630, 630, 3)\n",
            "(247, 204, 3)\n",
            "(890, 700, 3)\n",
            "(380, 310, 3)\n",
            "(442, 353, 3)\n",
            "(255, 197, 3)\n",
            "(237, 213, 3)\n",
            "(431, 400, 3)\n",
            "(380, 310, 3)\n",
            "(1200, 1059, 3)\n",
            "(512, 512, 3)\n",
            "(325, 254, 3)\n",
            "(929, 634, 3)\n",
            "(369, 400, 3)\n",
            "(512, 512, 3)\n",
            "(960, 781, 3)\n",
            "(456, 374, 3)\n",
            "(325, 300, 3)\n",
            "(300, 289, 3)\n",
            "(500, 377, 3)\n",
            "(938, 911, 3)\n",
            "(223, 226, 3)\n",
            "(380, 318, 3)\n",
            "(938, 864, 3)\n",
            "(246, 205, 3)\n",
            "(360, 319, 3)\n",
            "(300, 263, 3)\n",
            "(1280, 1061, 3)\n",
            "(993, 825, 3)\n",
            "(353, 300, 3)\n",
            "(630, 628, 3)\n",
            "(630, 504, 3)\n",
            "(234, 216, 3)\n",
            "(1200, 1059, 3)\n",
            "(879, 766, 3)\n",
            "(225, 225, 3)\n",
            "(251, 201, 3)\n",
            "(938, 911, 3)\n",
            "(450, 355, 3)\n",
            "(1427, 1275, 3)\n",
            "(325, 300, 3)\n",
            "(512, 512, 3)\n",
            "(620, 620, 3)\n",
            "(256, 256, 3)\n",
            "(431, 400, 3)\n",
            "(300, 289, 3)\n",
            "(630, 630, 3)\n",
            "(278, 236, 3)\n",
            "(359, 300, 3)\n",
            "(294, 250, 3)\n",
            "(239, 211, 3)\n",
            "(380, 310, 3)\n",
            "(630, 630, 3)\n",
            "(210, 200, 3)\n",
            "(555, 526, 3)\n",
            "(347, 300, 3)\n",
            "(630, 587, 3)\n",
            "(446, 450, 3)\n",
            "(325, 254, 3)\n",
            "(1024, 1024, 3)\n"
          ]
        }
      ]
    }
  ]
}